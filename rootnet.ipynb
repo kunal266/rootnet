{
 "metadata": {
  "language_info": {
   "codemirror_mode": {
    "name": "ipython",
    "version": 3
   },
   "file_extension": ".py",
   "mimetype": "text/x-python",
   "name": "python",
   "nbconvert_exporter": "python",
   "pygments_lexer": "ipython3",
   "version": "3.9.2-final"
  },
  "orig_nbformat": 2,
  "kernelspec": {
   "name": "python3",
   "display_name": "Python 3",
   "language": "python"
  }
 },
 "nbformat": 4,
 "nbformat_minor": 2,
 "cells": [
  {
   "cell_type": "code",
   "execution_count": 2,
   "metadata": {},
   "outputs": [],
   "source": [
    "import json\n",
    "import requests"
   ]
  },
  {
   "cell_type": "code",
   "execution_count": 3,
   "metadata": {},
   "outputs": [],
   "source": [
    "url = \"https://api.rootnet.in/covid19-in/\"\n",
    "ltt = 'stats/latest'\n",
    "hist = 'stats/history'\n",
    "beds = 'hospitals/beds'\n",
    "clg = 'hospitals/medical-colleges'"
   ]
  },
  {
   "cell_type": "code",
   "execution_count": 4,
   "metadata": {},
   "outputs": [],
   "source": [
    "r = requests.get(url+ltt)"
   ]
  },
  {
   "cell_type": "code",
   "execution_count": 5,
   "metadata": {},
   "outputs": [
    {
     "output_type": "execute_result",
     "data": {
      "text/plain": [
       "<Response [200]>"
      ]
     },
     "metadata": {},
     "execution_count": 5
    }
   ],
   "source": [
    "r"
   ]
  },
  {
   "cell_type": "code",
   "execution_count": 6,
   "metadata": {},
   "outputs": [],
   "source": [
    "x = r.json()"
   ]
  },
  {
   "cell_type": "code",
   "execution_count": null,
   "metadata": {},
   "outputs": [],
   "source": []
  },
  {
   "cell_type": "code",
   "execution_count": 7,
   "metadata": {},
   "outputs": [],
   "source": [
    "import pandas as pd"
   ]
  },
  {
   "cell_type": "code",
   "execution_count": 8,
   "metadata": {},
   "outputs": [],
   "source": [
    "latest = pd.read_json(json.dumps(x))"
   ]
  },
  {
   "cell_type": "code",
   "execution_count": 9,
   "metadata": {},
   "outputs": [
    {
     "output_type": "execute_result",
     "data": {
      "text/plain": [
       "                    success  \\\n",
       "regional               True   \n",
       "summary                True   \n",
       "unofficial-summary     True   \n",
       "\n",
       "                                                                 data  \\\n",
       "regional            [{'loc': 'Andaman and Nicobar Islands', 'confi...   \n",
       "summary             {'total': 11971624, 'confirmedCasesIndian': 11...   \n",
       "unofficial-summary  [{'source': 'covid19india.org', 'total': 79459...   \n",
       "\n",
       "                               lastRefreshed          lastOriginUpdate  \n",
       "regional            2021-03-28T17:04:23.279Z  2021-03-28T02:30:00.000Z  \n",
       "summary             2021-03-28T17:04:23.279Z  2021-03-28T02:30:00.000Z  \n",
       "unofficial-summary  2021-03-28T17:04:23.279Z  2021-03-28T02:30:00.000Z  "
      ],
      "text/html": "<div>\n<style scoped>\n    .dataframe tbody tr th:only-of-type {\n        vertical-align: middle;\n    }\n\n    .dataframe tbody tr th {\n        vertical-align: top;\n    }\n\n    .dataframe thead th {\n        text-align: right;\n    }\n</style>\n<table border=\"1\" class=\"dataframe\">\n  <thead>\n    <tr style=\"text-align: right;\">\n      <th></th>\n      <th>success</th>\n      <th>data</th>\n      <th>lastRefreshed</th>\n      <th>lastOriginUpdate</th>\n    </tr>\n  </thead>\n  <tbody>\n    <tr>\n      <th>regional</th>\n      <td>True</td>\n      <td>[{'loc': 'Andaman and Nicobar Islands', 'confi...</td>\n      <td>2021-03-28T17:04:23.279Z</td>\n      <td>2021-03-28T02:30:00.000Z</td>\n    </tr>\n    <tr>\n      <th>summary</th>\n      <td>True</td>\n      <td>{'total': 11971624, 'confirmedCasesIndian': 11...</td>\n      <td>2021-03-28T17:04:23.279Z</td>\n      <td>2021-03-28T02:30:00.000Z</td>\n    </tr>\n    <tr>\n      <th>unofficial-summary</th>\n      <td>True</td>\n      <td>[{'source': 'covid19india.org', 'total': 79459...</td>\n      <td>2021-03-28T17:04:23.279Z</td>\n      <td>2021-03-28T02:30:00.000Z</td>\n    </tr>\n  </tbody>\n</table>\n</div>"
     },
     "metadata": {},
     "execution_count": 9
    }
   ],
   "source": [
    "latest"
   ]
  },
  {
   "cell_type": "code",
   "execution_count": 10,
   "metadata": {},
   "outputs": [],
   "source": [
    "latest_region_json = x['data']['regional']"
   ]
  },
  {
   "cell_type": "code",
   "execution_count": 11,
   "metadata": {},
   "outputs": [],
   "source": [
    "latest_region = pd.read_json(json.dumps(latest_region_json))"
   ]
  },
  {
   "cell_type": "code",
   "execution_count": 12,
   "metadata": {},
   "outputs": [
    {
     "output_type": "execute_result",
     "data": {
      "text/plain": [
       "                                         loc  confirmedCasesIndian  \\\n",
       "0                Andaman and Nicobar Islands                  5044   \n",
       "1                             Andhra Pradesh                897810   \n",
       "2                          Arunachal Pradesh                 16845   \n",
       "3                                      Assam                218222   \n",
       "4                                      Bihar                264604   \n",
       "5                                 Chandigarh                 25898   \n",
       "6                               Chhattisgarh                337940   \n",
       "7   Dadra and Nagar Haveli and Daman and Diu                  3580   \n",
       "8                                      Delhi                655833   \n",
       "9                                        Goa                 57452   \n",
       "10                                   Gujarat                298595   \n",
       "11                                   Haryana                286313   \n",
       "12                          Himachal Pradesh                 62383   \n",
       "13                         Jammu and Kashmir                129684   \n",
       "14                                 Jharkhand                122621   \n",
       "15                                 Karnataka                983930   \n",
       "16                                    Kerala               1115769   \n",
       "17                                    Ladakh                  9974   \n",
       "18                               Lakshadweep                   714   \n",
       "19                            Madhya Pradesh                286407   \n",
       "20                               Maharashtra               2673458   \n",
       "21                                   Manipur                 29376   \n",
       "22                                 Meghalaya                 14031   \n",
       "23                                   Mizoram                  4465   \n",
       "24                                  Nagaland                 12229   \n",
       "25                                    Odisha                339904   \n",
       "26                                Puducherry                 40964   \n",
       "27                                    Punjab                228864   \n",
       "28                                 Rajasthan                329593   \n",
       "29                                    Sikkim                  6226   \n",
       "30                                Tamil Nadu                877273   \n",
       "31                                 Telengana                306329   \n",
       "32                                   Tripura                 33491   \n",
       "33                               Uttarakhand                 99514   \n",
       "34                             Uttar Pradesh                612402   \n",
       "35                               West Bengal                583839   \n",
       "\n",
       "    confirmedCasesForeign  discharged  deaths  totalConfirmed  \n",
       "0                       0        4975      62            5044  \n",
       "1                       0      885892    7203          897810  \n",
       "2                       0       16785      56           16845  \n",
       "3                       0      215348    1104          218222  \n",
       "4                       0      261917    1571          264604  \n",
       "5                       0       22992     374           25898  \n",
       "6                       0      316043    4061          337940  \n",
       "7                       0        3448       2            3580  \n",
       "8                       1      638212   10997          655834  \n",
       "9                       1       55250     824           57453  \n",
       "10                      1      283241    4484          298596  \n",
       "11                     14      274785    3132          286327  \n",
       "12                      0       58989    1033           62383  \n",
       "13                      0      125886    1985          129684  \n",
       "14                      0      119878    1107          122621  \n",
       "15                      0      950167   12492          983930  \n",
       "16                      8     1086669    4567         1115777  \n",
       "17                      0        9727     130            9974  \n",
       "18                      0         625       1             714  \n",
       "19                      0      269465    3947          286407  \n",
       "20                      3     2314579   54073         2673461  \n",
       "21                      0       28944     374           29376  \n",
       "22                      0       13855     150           14031  \n",
       "23                      0        4428      11            4465  \n",
       "24                      0       12133      92           12229  \n",
       "25                      0      336571    1920          339904  \n",
       "26                      0       39521     680           40964  \n",
       "27                      0      198972    6621          228864  \n",
       "28                      2      320426    2811          329595  \n",
       "29                      0        6041     135            6226  \n",
       "30                      6      852463   12659          877279  \n",
       "31                     10      300156    1688          306339  \n",
       "32                      0       33050     392           33491  \n",
       "33                      1       96467    1709           99515  \n",
       "34                      1      596953    8783          612403  \n",
       "35                      0      568909   10322          583839  "
      ],
      "text/html": "<div>\n<style scoped>\n    .dataframe tbody tr th:only-of-type {\n        vertical-align: middle;\n    }\n\n    .dataframe tbody tr th {\n        vertical-align: top;\n    }\n\n    .dataframe thead th {\n        text-align: right;\n    }\n</style>\n<table border=\"1\" class=\"dataframe\">\n  <thead>\n    <tr style=\"text-align: right;\">\n      <th></th>\n      <th>loc</th>\n      <th>confirmedCasesIndian</th>\n      <th>confirmedCasesForeign</th>\n      <th>discharged</th>\n      <th>deaths</th>\n      <th>totalConfirmed</th>\n    </tr>\n  </thead>\n  <tbody>\n    <tr>\n      <th>0</th>\n      <td>Andaman and Nicobar Islands</td>\n      <td>5044</td>\n      <td>0</td>\n      <td>4975</td>\n      <td>62</td>\n      <td>5044</td>\n    </tr>\n    <tr>\n      <th>1</th>\n      <td>Andhra Pradesh</td>\n      <td>897810</td>\n      <td>0</td>\n      <td>885892</td>\n      <td>7203</td>\n      <td>897810</td>\n    </tr>\n    <tr>\n      <th>2</th>\n      <td>Arunachal Pradesh</td>\n      <td>16845</td>\n      <td>0</td>\n      <td>16785</td>\n      <td>56</td>\n      <td>16845</td>\n    </tr>\n    <tr>\n      <th>3</th>\n      <td>Assam</td>\n      <td>218222</td>\n      <td>0</td>\n      <td>215348</td>\n      <td>1104</td>\n      <td>218222</td>\n    </tr>\n    <tr>\n      <th>4</th>\n      <td>Bihar</td>\n      <td>264604</td>\n      <td>0</td>\n      <td>261917</td>\n      <td>1571</td>\n      <td>264604</td>\n    </tr>\n    <tr>\n      <th>5</th>\n      <td>Chandigarh</td>\n      <td>25898</td>\n      <td>0</td>\n      <td>22992</td>\n      <td>374</td>\n      <td>25898</td>\n    </tr>\n    <tr>\n      <th>6</th>\n      <td>Chhattisgarh</td>\n      <td>337940</td>\n      <td>0</td>\n      <td>316043</td>\n      <td>4061</td>\n      <td>337940</td>\n    </tr>\n    <tr>\n      <th>7</th>\n      <td>Dadra and Nagar Haveli and Daman and Diu</td>\n      <td>3580</td>\n      <td>0</td>\n      <td>3448</td>\n      <td>2</td>\n      <td>3580</td>\n    </tr>\n    <tr>\n      <th>8</th>\n      <td>Delhi</td>\n      <td>655833</td>\n      <td>1</td>\n      <td>638212</td>\n      <td>10997</td>\n      <td>655834</td>\n    </tr>\n    <tr>\n      <th>9</th>\n      <td>Goa</td>\n      <td>57452</td>\n      <td>1</td>\n      <td>55250</td>\n      <td>824</td>\n      <td>57453</td>\n    </tr>\n    <tr>\n      <th>10</th>\n      <td>Gujarat</td>\n      <td>298595</td>\n      <td>1</td>\n      <td>283241</td>\n      <td>4484</td>\n      <td>298596</td>\n    </tr>\n    <tr>\n      <th>11</th>\n      <td>Haryana</td>\n      <td>286313</td>\n      <td>14</td>\n      <td>274785</td>\n      <td>3132</td>\n      <td>286327</td>\n    </tr>\n    <tr>\n      <th>12</th>\n      <td>Himachal Pradesh</td>\n      <td>62383</td>\n      <td>0</td>\n      <td>58989</td>\n      <td>1033</td>\n      <td>62383</td>\n    </tr>\n    <tr>\n      <th>13</th>\n      <td>Jammu and Kashmir</td>\n      <td>129684</td>\n      <td>0</td>\n      <td>125886</td>\n      <td>1985</td>\n      <td>129684</td>\n    </tr>\n    <tr>\n      <th>14</th>\n      <td>Jharkhand</td>\n      <td>122621</td>\n      <td>0</td>\n      <td>119878</td>\n      <td>1107</td>\n      <td>122621</td>\n    </tr>\n    <tr>\n      <th>15</th>\n      <td>Karnataka</td>\n      <td>983930</td>\n      <td>0</td>\n      <td>950167</td>\n      <td>12492</td>\n      <td>983930</td>\n    </tr>\n    <tr>\n      <th>16</th>\n      <td>Kerala</td>\n      <td>1115769</td>\n      <td>8</td>\n      <td>1086669</td>\n      <td>4567</td>\n      <td>1115777</td>\n    </tr>\n    <tr>\n      <th>17</th>\n      <td>Ladakh</td>\n      <td>9974</td>\n      <td>0</td>\n      <td>9727</td>\n      <td>130</td>\n      <td>9974</td>\n    </tr>\n    <tr>\n      <th>18</th>\n      <td>Lakshadweep</td>\n      <td>714</td>\n      <td>0</td>\n      <td>625</td>\n      <td>1</td>\n      <td>714</td>\n    </tr>\n    <tr>\n      <th>19</th>\n      <td>Madhya Pradesh</td>\n      <td>286407</td>\n      <td>0</td>\n      <td>269465</td>\n      <td>3947</td>\n      <td>286407</td>\n    </tr>\n    <tr>\n      <th>20</th>\n      <td>Maharashtra</td>\n      <td>2673458</td>\n      <td>3</td>\n      <td>2314579</td>\n      <td>54073</td>\n      <td>2673461</td>\n    </tr>\n    <tr>\n      <th>21</th>\n      <td>Manipur</td>\n      <td>29376</td>\n      <td>0</td>\n      <td>28944</td>\n      <td>374</td>\n      <td>29376</td>\n    </tr>\n    <tr>\n      <th>22</th>\n      <td>Meghalaya</td>\n      <td>14031</td>\n      <td>0</td>\n      <td>13855</td>\n      <td>150</td>\n      <td>14031</td>\n    </tr>\n    <tr>\n      <th>23</th>\n      <td>Mizoram</td>\n      <td>4465</td>\n      <td>0</td>\n      <td>4428</td>\n      <td>11</td>\n      <td>4465</td>\n    </tr>\n    <tr>\n      <th>24</th>\n      <td>Nagaland</td>\n      <td>12229</td>\n      <td>0</td>\n      <td>12133</td>\n      <td>92</td>\n      <td>12229</td>\n    </tr>\n    <tr>\n      <th>25</th>\n      <td>Odisha</td>\n      <td>339904</td>\n      <td>0</td>\n      <td>336571</td>\n      <td>1920</td>\n      <td>339904</td>\n    </tr>\n    <tr>\n      <th>26</th>\n      <td>Puducherry</td>\n      <td>40964</td>\n      <td>0</td>\n      <td>39521</td>\n      <td>680</td>\n      <td>40964</td>\n    </tr>\n    <tr>\n      <th>27</th>\n      <td>Punjab</td>\n      <td>228864</td>\n      <td>0</td>\n      <td>198972</td>\n      <td>6621</td>\n      <td>228864</td>\n    </tr>\n    <tr>\n      <th>28</th>\n      <td>Rajasthan</td>\n      <td>329593</td>\n      <td>2</td>\n      <td>320426</td>\n      <td>2811</td>\n      <td>329595</td>\n    </tr>\n    <tr>\n      <th>29</th>\n      <td>Sikkim</td>\n      <td>6226</td>\n      <td>0</td>\n      <td>6041</td>\n      <td>135</td>\n      <td>6226</td>\n    </tr>\n    <tr>\n      <th>30</th>\n      <td>Tamil Nadu</td>\n      <td>877273</td>\n      <td>6</td>\n      <td>852463</td>\n      <td>12659</td>\n      <td>877279</td>\n    </tr>\n    <tr>\n      <th>31</th>\n      <td>Telengana</td>\n      <td>306329</td>\n      <td>10</td>\n      <td>300156</td>\n      <td>1688</td>\n      <td>306339</td>\n    </tr>\n    <tr>\n      <th>32</th>\n      <td>Tripura</td>\n      <td>33491</td>\n      <td>0</td>\n      <td>33050</td>\n      <td>392</td>\n      <td>33491</td>\n    </tr>\n    <tr>\n      <th>33</th>\n      <td>Uttarakhand</td>\n      <td>99514</td>\n      <td>1</td>\n      <td>96467</td>\n      <td>1709</td>\n      <td>99515</td>\n    </tr>\n    <tr>\n      <th>34</th>\n      <td>Uttar Pradesh</td>\n      <td>612402</td>\n      <td>1</td>\n      <td>596953</td>\n      <td>8783</td>\n      <td>612403</td>\n    </tr>\n    <tr>\n      <th>35</th>\n      <td>West Bengal</td>\n      <td>583839</td>\n      <td>0</td>\n      <td>568909</td>\n      <td>10322</td>\n      <td>583839</td>\n    </tr>\n  </tbody>\n</table>\n</div>"
     },
     "metadata": {},
     "execution_count": 12
    }
   ],
   "source": [
    "latest_region"
   ]
  },
  {
   "cell_type": "code",
   "execution_count": 13,
   "metadata": {},
   "outputs": [],
   "source": [
    "latest_summary_json = x['data']['summary']"
   ]
  },
  {
   "cell_type": "code",
   "execution_count": 14,
   "metadata": {},
   "outputs": [
    {
     "output_type": "execute_result",
     "data": {
      "text/plain": [
       "{'total': 11971624,\n",
       " 'confirmedCasesIndian': 11971576,\n",
       " 'confirmedCasesForeign': 48,\n",
       " 'discharged': 11323762,\n",
       " 'deaths': 161552,\n",
       " 'confirmedButLocationUnidentified': 0}"
      ]
     },
     "metadata": {},
     "execution_count": 14
    }
   ],
   "source": [
    "latest_summary_json"
   ]
  },
  {
   "cell_type": "code",
   "execution_count": 15,
   "metadata": {},
   "outputs": [],
   "source": [
    "latest_summary =  pd.DataFrame(latest_summary_json,index = [0])"
   ]
  },
  {
   "cell_type": "code",
   "execution_count": 16,
   "metadata": {},
   "outputs": [
    {
     "output_type": "execute_result",
     "data": {
      "text/plain": [
       "      total  confirmedCasesIndian  confirmedCasesForeign  discharged  deaths  \\\n",
       "0  11971624              11971576                     48    11323762  161552   \n",
       "\n",
       "   confirmedButLocationUnidentified  \n",
       "0                                 0  "
      ],
      "text/html": "<div>\n<style scoped>\n    .dataframe tbody tr th:only-of-type {\n        vertical-align: middle;\n    }\n\n    .dataframe tbody tr th {\n        vertical-align: top;\n    }\n\n    .dataframe thead th {\n        text-align: right;\n    }\n</style>\n<table border=\"1\" class=\"dataframe\">\n  <thead>\n    <tr style=\"text-align: right;\">\n      <th></th>\n      <th>total</th>\n      <th>confirmedCasesIndian</th>\n      <th>confirmedCasesForeign</th>\n      <th>discharged</th>\n      <th>deaths</th>\n      <th>confirmedButLocationUnidentified</th>\n    </tr>\n  </thead>\n  <tbody>\n    <tr>\n      <th>0</th>\n      <td>11971624</td>\n      <td>11971576</td>\n      <td>48</td>\n      <td>11323762</td>\n      <td>161552</td>\n      <td>0</td>\n    </tr>\n  </tbody>\n</table>\n</div>"
     },
     "metadata": {},
     "execution_count": 16
    }
   ],
   "source": [
    "latest_summary"
   ]
  },
  {
   "cell_type": "code",
   "execution_count": 17,
   "metadata": {},
   "outputs": [],
   "source": [
    "latest_unofficial_json = x['data']['unofficial-summary']"
   ]
  },
  {
   "cell_type": "code",
   "execution_count": 18,
   "metadata": {},
   "outputs": [],
   "source": [
    "latest_unofficial = pd.read_json(json.dumps(latest_unofficial_json))"
   ]
  },
  {
   "cell_type": "code",
   "execution_count": 19,
   "metadata": {},
   "outputs": [
    {
     "output_type": "execute_result",
     "data": {
      "text/plain": [
       "             source    total  recovered  deaths  active\n",
       "0  covid19india.org  7945975    7198877  119538  626192"
      ],
      "text/html": "<div>\n<style scoped>\n    .dataframe tbody tr th:only-of-type {\n        vertical-align: middle;\n    }\n\n    .dataframe tbody tr th {\n        vertical-align: top;\n    }\n\n    .dataframe thead th {\n        text-align: right;\n    }\n</style>\n<table border=\"1\" class=\"dataframe\">\n  <thead>\n    <tr style=\"text-align: right;\">\n      <th></th>\n      <th>source</th>\n      <th>total</th>\n      <th>recovered</th>\n      <th>deaths</th>\n      <th>active</th>\n    </tr>\n  </thead>\n  <tbody>\n    <tr>\n      <th>0</th>\n      <td>covid19india.org</td>\n      <td>7945975</td>\n      <td>7198877</td>\n      <td>119538</td>\n      <td>626192</td>\n    </tr>\n  </tbody>\n</table>\n</div>"
     },
     "metadata": {},
     "execution_count": 19
    }
   ],
   "source": [
    "latest_unofficial"
   ]
  },
  {
   "cell_type": "code",
   "execution_count": 20,
   "metadata": {},
   "outputs": [],
   "source": [
    "r_hist = requests.get(url+hist)"
   ]
  },
  {
   "cell_type": "code",
   "execution_count": null,
   "metadata": {},
   "outputs": [],
   "source": []
  },
  {
   "cell_type": "code",
   "execution_count": 21,
   "metadata": {},
   "outputs": [],
   "source": [
    "x_hist = r_hist.json()['data']"
   ]
  },
  {
   "cell_type": "code",
   "execution_count": null,
   "metadata": {},
   "outputs": [],
   "source": []
  },
  {
   "cell_type": "code",
   "execution_count": 22,
   "metadata": {},
   "outputs": [
    {
     "output_type": "execute_result",
     "data": {
      "text/plain": [
       "{'day': '2021-03-22',\n",
       " 'summary': {'total': 11646081,\n",
       "  'confirmedCasesIndian': 11646033,\n",
       "  'confirmedCasesForeign': 48,\n",
       "  'discharged': 11151468,\n",
       "  'deaths': 159967,\n",
       "  'confirmedButLocationUnidentified': 0},\n",
       " 'regional': [{'loc': 'Andaman and Nicobar Islands',\n",
       "   'confirmedCasesIndian': 5039,\n",
       "   'confirmedCasesForeign': 0,\n",
       "   'discharged': 4969,\n",
       "   'deaths': 62,\n",
       "   'totalConfirmed': 5039},\n",
       "  {'loc': 'Andhra Pradesh',\n",
       "   'confirmedCasesIndian': 893734,\n",
       "   'confirmedCasesForeign': 0,\n",
       "   'discharged': 884357,\n",
       "   'deaths': 7189,\n",
       "   'totalConfirmed': 893734},\n",
       "  {'loc': 'Arunachal Pradesh',\n",
       "   'confirmedCasesIndian': 16842,\n",
       "   'confirmedCasesForeign': 0,\n",
       "   'discharged': 16783,\n",
       "   'deaths': 56,\n",
       "   'totalConfirmed': 16842},\n",
       "  {'loc': 'Assam',\n",
       "   'confirmedCasesIndian': 217976,\n",
       "   'confirmedCasesForeign': 0,\n",
       "   'discharged': 215213,\n",
       "   'deaths': 1100,\n",
       "   'totalConfirmed': 217976},\n",
       "  {'loc': 'Bihar',\n",
       "   'confirmedCasesIndian': 263569,\n",
       "   'confirmedCasesForeign': 0,\n",
       "   'discharged': 261487,\n",
       "   'deaths': 1559,\n",
       "   'totalConfirmed': 263569},\n",
       "  {'loc': 'Chandigarh',\n",
       "   'confirmedCasesIndian': 24459,\n",
       "   'confirmedCasesForeign': 0,\n",
       "   'discharged': 22225,\n",
       "   'deaths': 362,\n",
       "   'totalConfirmed': 24459},\n",
       "  {'loc': 'Chhattisgarh',\n",
       "   'confirmedCasesIndian': 324153,\n",
       "   'confirmedCasesForeign': 0,\n",
       "   'discharged': 311761,\n",
       "   'deaths': 3950,\n",
       "   'totalConfirmed': 324153},\n",
       "  {'loc': 'Dadra and Nagar Haveli and Daman and Diu',\n",
       "   'confirmedCasesIndian': 3481,\n",
       "   'confirmedCasesForeign': 0,\n",
       "   'discharged': 3427,\n",
       "   'deaths': 2,\n",
       "   'totalConfirmed': 3481},\n",
       "  {'loc': 'Delhi',\n",
       "   'confirmedCasesIndian': 647983,\n",
       "   'confirmedCasesForeign': 1,\n",
       "   'discharged': 633410,\n",
       "   'deaths': 10956,\n",
       "   'totalConfirmed': 647984},\n",
       "  {'loc': 'Goa',\n",
       "   'confirmedCasesIndian': 56622,\n",
       "   'confirmedCasesForeign': 1,\n",
       "   'discharged': 54792,\n",
       "   'deaths': 818,\n",
       "   'totalConfirmed': 56623},\n",
       "  {'loc': 'Gujarat',\n",
       "   'confirmedCasesIndian': 287008,\n",
       "   'confirmedCasesForeign': 1,\n",
       "   'discharged': 275238,\n",
       "   'deaths': 4450,\n",
       "   'totalConfirmed': 287009},\n",
       "  {'loc': 'Haryana',\n",
       "   'confirmedCasesIndian': 279814,\n",
       "   'confirmedCasesForeign': 14,\n",
       "   'discharged': 271375,\n",
       "   'deaths': 3098,\n",
       "   'totalConfirmed': 279828},\n",
       "  {'loc': 'Himachal Pradesh',\n",
       "   'confirmedCasesIndian': 60678,\n",
       "   'confirmedCasesForeign': 0,\n",
       "   'discharged': 58404,\n",
       "   'deaths': 1018,\n",
       "   'totalConfirmed': 60678},\n",
       "  {'loc': 'Jammu and Kashmir',\n",
       "   'confirmedCasesIndian': 128547,\n",
       "   'confirmedCasesForeign': 0,\n",
       "   'discharged': 125276,\n",
       "   'deaths': 1981,\n",
       "   'totalConfirmed': 128547},\n",
       "  {'loc': 'Jharkhand',\n",
       "   'confirmedCasesIndian': 121261,\n",
       "   'confirmedCasesForeign': 0,\n",
       "   'discharged': 119409,\n",
       "   'deaths': 1096,\n",
       "   'totalConfirmed': 121261},\n",
       "  {'loc': 'Karnataka',\n",
       "   'confirmedCasesIndian': 970202,\n",
       "   'confirmedCasesForeign': 0,\n",
       "   'discharged': 944256,\n",
       "   'deaths': 12434,\n",
       "   'totalConfirmed': 970202},\n",
       "  {'loc': 'Kerala',\n",
       "   'confirmedCasesIndian': 1104220,\n",
       "   'confirmedCasesForeign': 8,\n",
       "   'discharged': 1074805,\n",
       "   'deaths': 4495,\n",
       "   'totalConfirmed': 1104228},\n",
       "  {'loc': 'Ladakh',\n",
       "   'confirmedCasesIndian': 9908,\n",
       "   'confirmedCasesForeign': 0,\n",
       "   'discharged': 9704,\n",
       "   'deaths': 130,\n",
       "   'totalConfirmed': 9908},\n",
       "  {'loc': 'Lakshadweep',\n",
       "   'confirmedCasesIndian': 666,\n",
       "   'confirmedCasesForeign': 0,\n",
       "   'discharged': 536,\n",
       "   'deaths': 1,\n",
       "   'totalConfirmed': 666},\n",
       "  {'loc': 'Madhya Pradesh',\n",
       "   'confirmedCasesIndian': 275727,\n",
       "   'confirmedCasesForeign': 0,\n",
       "   'discharged': 263821,\n",
       "   'deaths': 3906,\n",
       "   'totalConfirmed': 275727},\n",
       "  {'loc': 'Maharashtra',\n",
       "   'confirmedCasesIndian': 2479679,\n",
       "   'confirmedCasesForeign': 3,\n",
       "   'discharged': 2214867,\n",
       "   'deaths': 53399,\n",
       "   'totalConfirmed': 2479682},\n",
       "  {'loc': 'Manipur',\n",
       "   'confirmedCasesIndian': 29335,\n",
       "   'confirmedCasesForeign': 0,\n",
       "   'discharged': 28933,\n",
       "   'deaths': 373,\n",
       "   'totalConfirmed': 29335},\n",
       "  {'loc': 'Meghalaya',\n",
       "   'confirmedCasesIndian': 14016,\n",
       "   'confirmedCasesForeign': 0,\n",
       "   'discharged': 13837,\n",
       "   'deaths': 149,\n",
       "   'totalConfirmed': 14016},\n",
       "  {'loc': 'Mizoram',\n",
       "   'confirmedCasesIndian': 4448,\n",
       "   'confirmedCasesForeign': 0,\n",
       "   'discharged': 4423,\n",
       "   'deaths': 11,\n",
       "   'totalConfirmed': 4448},\n",
       "  {'loc': 'Nagaland',\n",
       "   'confirmedCasesIndian': 12225,\n",
       "   'confirmedCasesForeign': 0,\n",
       "   'discharged': 12132,\n",
       "   'deaths': 91,\n",
       "   'totalConfirmed': 12225},\n",
       "  {'loc': 'Odisha',\n",
       "   'confirmedCasesIndian': 338817,\n",
       "   'confirmedCasesForeign': 0,\n",
       "   'discharged': 336124,\n",
       "   'deaths': 1919,\n",
       "   'totalConfirmed': 338817},\n",
       "  {'loc': 'Puducherry',\n",
       "   'confirmedCasesIndian': 40386,\n",
       "   'confirmedCasesForeign': 0,\n",
       "   'discharged': 39521,\n",
       "   'deaths': 675,\n",
       "   'totalConfirmed': 40386},\n",
       "  {'loc': 'Punjab',\n",
       "   'confirmedCasesIndian': 213110,\n",
       "   'confirmedCasesForeign': 0,\n",
       "   'discharged': 188529,\n",
       "   'deaths': 6324,\n",
       "   'totalConfirmed': 213110},\n",
       "  {'loc': 'Rajasthan',\n",
       "   'confirmedCasesIndian': 325422,\n",
       "   'confirmedCasesForeign': 2,\n",
       "   'discharged': 319041,\n",
       "   'deaths': 2798,\n",
       "   'totalConfirmed': 325424},\n",
       "  {'loc': 'Sikkim',\n",
       "   'confirmedCasesIndian': 6206,\n",
       "   'confirmedCasesForeign': 0,\n",
       "   'discharged': 6017,\n",
       "   'deaths': 135,\n",
       "   'totalConfirmed': 6206},\n",
       "  {'loc': 'Tamil Nadu',\n",
       "   'confirmedCasesIndian': 866976,\n",
       "   'confirmedCasesForeign': 6,\n",
       "   'discharged': 846480,\n",
       "   'deaths': 12599,\n",
       "   'totalConfirmed': 866982},\n",
       "  {'loc': 'Telengana',\n",
       "   'confirmedCasesIndian': 303445,\n",
       "   'confirmedCasesForeign': 10,\n",
       "   'discharged': 298826,\n",
       "   'deaths': 1671,\n",
       "   'totalConfirmed': 303455},\n",
       "  {'loc': 'Tripura',\n",
       "   'confirmedCasesIndian': 33464,\n",
       "   'confirmedCasesForeign': 0,\n",
       "   'discharged': 33043,\n",
       "   'deaths': 391,\n",
       "   'totalConfirmed': 33464},\n",
       "  {'loc': 'Uttarakhand',\n",
       "   'confirmedCasesIndian': 98447,\n",
       "   'confirmedCasesForeign': 1,\n",
       "   'discharged': 95883,\n",
       "   'deaths': 1704,\n",
       "   'totalConfirmed': 98448},\n",
       "  {'loc': 'Uttar Pradesh',\n",
       "   'confirmedCasesIndian': 607537,\n",
       "   'confirmedCasesForeign': 1,\n",
       "   'discharged': 595743,\n",
       "   'deaths': 8759,\n",
       "   'totalConfirmed': 607538},\n",
       "  {'loc': 'West Bengal',\n",
       "   'confirmedCasesIndian': 580631,\n",
       "   'confirmedCasesForeign': 0,\n",
       "   'discharged': 566821,\n",
       "   'deaths': 10306,\n",
       "   'totalConfirmed': 580631}]}"
      ]
     },
     "metadata": {},
     "execution_count": 22
    }
   ],
   "source": [
    "x_hist[377]"
   ]
  },
  {
   "cell_type": "code",
   "execution_count": 22,
   "metadata": {},
   "outputs": [
    {
     "output_type": "execute_result",
     "data": {
      "text/plain": [
       "'Andhra Pradesh'"
      ]
     },
     "metadata": {},
     "execution_count": 22
    }
   ],
   "source": [
    "x_hist[-1]['regional'][1]['loc']"
   ]
  },
  {
   "cell_type": "code",
   "execution_count": 23,
   "metadata": {},
   "outputs": [
    {
     "output_type": "execute_result",
     "data": {
      "text/plain": [
       "383"
      ]
     },
     "metadata": {},
     "execution_count": 23
    }
   ],
   "source": [
    "len(x_hist)"
   ]
  },
  {
   "cell_type": "code",
   "execution_count": 24,
   "metadata": {},
   "outputs": [
    {
     "output_type": "execute_result",
     "data": {
      "text/plain": [
       "dict_keys(['loc', 'confirmedCasesIndian', 'confirmedCasesForeign', 'discharged', 'deaths', 'totalConfirmed'])"
      ]
     },
     "metadata": {},
     "execution_count": 24
    }
   ],
   "source": [
    "x_hist[-1]['regional'][0].keys()"
   ]
  },
  {
   "cell_type": "code",
   "execution_count": 29,
   "metadata": {},
   "outputs": [],
   "source": [
    "for i in range(len(x_hist[-1]['regional'])):\n",
    "    file_name = x_hist[-1]['regional'][i]['loc']\n",
    "    sub_file = re.sub(r'[^\\w]', '', file_name)\n",
    "    ff = open(sub_file+\".csv\", \"a\")\n",
    "    ff.seek(0)\n",
    "    ff.write('date,confirmedcasesindian,confirmedcasesforeign,discharged,deaths,totalConfirmed\\n')\n",
    "    ff.close()"
   ]
  },
  {
   "cell_type": "code",
   "execution_count": 24,
   "metadata": {},
   "outputs": [
    {
     "output_type": "execute_result",
     "data": {
      "text/plain": [
       "36"
      ]
     },
     "metadata": {},
     "execution_count": 24
    }
   ],
   "source": [
    "len(x_hist[-1]['regional'])"
   ]
  },
  {
   "cell_type": "code",
   "execution_count": 26,
   "metadata": {},
   "outputs": [
    {
     "output_type": "stream",
     "name": "stdout",
     "text": [
      "12\n12\n12\n13\n13\n14\n15\n15\n17\n19\n20\n22\n23\n23\n24\n25\n27\n27\n27\n27\n27\n27\n29\n29\n30\n30\n30\n30\n31\n31\n31\n31\n31\n31\n32\n33\n33\n33\n33\n33\n33\n33\n33\n32\n32\n32\n32\n32\n32\n32\n32\n32\n32\n32\n32\n32\n32\n33\n33\n33\n33\n33\n33\n33\n33\n33\n33\n33\n33\n33\n33\n33\n33\n33\n33\n34\n34\n35\n35\n35\n35\n35\n35\n35\n35\n35\n35\n35\n35\n35\n35\n35\n35\n35\n35\n35\n35\n35\n35\n35\n35\n35\n35\n35\n35\n35\n35\n35\n35\n35\n35\n35\n35\n35\n35\n35\n35\n35\n35\n35\n35\n35\n35\n35\n35\n35\n35\n35\n35\n35\n35\n35\n35\n35\n35\n35\n35\n35\n35\n35\n36\n36\n36\n36\n36\n36\n36\n36\n36\n36\n36\n36\n36\n36\n36\n36\n36\n36\n36\n36\n36\n36\n36\n36\n36\n36\n36\n36\n36\n36\n36\n36\n36\n36\n36\n36\n36\n36\n36\n36\n36\n36\n36\n36\n36\n36\n36\n36\n36\n36\n36\n36\n36\n36\n36\n36\n36\n36\n36\n36\n36\n36\n36\n36\n36\n36\n36\n36\n36\n36\n36\n36\n36\n36\n36\n36\n36\n36\n36\n36\n36\n36\n36\n36\n36\n36\n36\n36\n36\n36\n36\n36\n36\n36\n36\n36\n36\n36\n36\n36\n36\n36\n36\n36\n36\n36\n36\n36\n36\n36\n36\n36\n36\n36\n36\n36\n36\n36\n36\n36\n36\n36\n36\n36\n36\n36\n36\n36\n36\n36\n36\n36\n36\n36\n36\n36\n36\n36\n36\n36\n36\n36\n36\n36\n36\n36\n36\n36\n36\n36\n36\n36\n36\n36\n36\n36\n36\n36\n36\n36\n36\n36\n36\n36\n36\n36\n36\n36\n36\n36\n36\n36\n36\n36\n36\n36\n36\n36\n36\n36\n36\n36\n36\n36\n36\n36\n36\n36\n36\n36\n36\n36\n36\n36\n36\n36\n36\n36\n36\n36\n36\n36\n36\n36\n36\n36\n36\n36\n36\n36\n36\n36\n36\n36\n36\n36\n36\n36\n36\n36\n36\n36\n36\n36\n36\n36\n36\n36\n36\n36\n36\n36\n36\n36\n36\n36\n36\n36\n36\n36\n36\n36\n36\n"
     ]
    }
   ],
   "source": [
    "count = 0\n",
    "for i in range(0,len(x_hist)):\n",
    "    if len(x_hist[i]['regional']) <36:\n",
    "        count= count + 1\n",
    "    print(len(x_hist[i]['regional']))"
   ]
  },
  {
   "cell_type": "code",
   "execution_count": 27,
   "metadata": {},
   "outputs": [
    {
     "output_type": "execute_result",
     "data": {
      "text/plain": [
       "140"
      ]
     },
     "metadata": {},
     "execution_count": 27
    }
   ],
   "source": [
    "count"
   ]
  },
  {
   "cell_type": "code",
   "execution_count": 31,
   "metadata": {},
   "outputs": [
    {
     "output_type": "execute_result",
     "data": {
      "text/plain": [
       "12"
      ]
     },
     "metadata": {},
     "execution_count": 31
    }
   ],
   "source": [
    "len(x_hist[0]['regional'])"
   ]
  },
  {
   "source": [
    "# Date and loc\n",
    "# iterate date and then on region"
   ],
   "cell_type": "markdown",
   "metadata": {}
  },
  {
   "cell_type": "code",
   "execution_count": 84,
   "metadata": {
    "tags": []
   },
   "outputs": [
    {
     "output_type": "stream",
     "name": "stdout",
     "text": [
      "Delhi\nAndhra Pradesh\nArunachal Pradesh\nAssam\nBihar\nChandigarh\nChhattisgarh\nDadra and Nagar Haveli and Daman and Diu\nDelhi\nGoa\nGujarat\nHaryana\n"
     ]
    }
   ],
   "source": [
    "for j in range(0,a):  #this repeats for states i.e. 31 times\n",
    "    print(x_hist[i]['regional'][j]['loc'])\n",
    "    ff = open(x_hist[i]['regional'][j]['loc']+\".csv\", \"a\")\n",
    "    ff.write('date,confirmedcasesindian,confirmedcasesforeign,discharged,deaths,totalConfirmed\\n')\n",
    "    for i in range(0,len(x_hist)): #this repeats for dates i.e as of march 23 2021 , 378 times]\n",
    "        ff.write(x_hist[i]['day']+\",\"+str(x_hist[i]['regional'][j]['confirmedCasesIndian'])+\",\"+str(x_hist[i]['regional'][j]['confirmedCasesForeign'])+\",\"+str(x_hist[i]['regional'][j]['discharged'])+\",\"+str(x_hist[i]['regional'][j]['deaths'])+\",\"+str(x_hist[i]['regional'][j]['totalConfirmed'])+\"\\n\")\n",
    "    ff.close()"
   ]
  },
  {
   "cell_type": "code",
   "execution_count": 35,
   "metadata": {},
   "outputs": [
    {
     "output_type": "execute_result",
     "data": {
      "text/plain": [
       "383"
      ]
     },
     "metadata": {},
     "execution_count": 35
    }
   ],
   "source": [
    "len(x_hist)"
   ]
  },
  {
   "cell_type": "code",
   "execution_count": 28,
   "metadata": {},
   "outputs": [],
   "source": [
    "import re"
   ]
  },
  {
   "cell_type": "code",
   "execution_count": 52,
   "metadata": {},
   "outputs": [],
   "source": [
    "for i in range(len(x_hist)):\n",
    "        # print(x_hist[i]['regional'][j]['loc'])\n",
    "        # ff = open(x_hist[0]['regional'][j]['loc']+\".csv\", \"a\")\n",
    "        # ff.write('date,confirmedcasesindian,confirmedcasesforeign,discharged,deaths,totalConfirmed\\n')\n",
    "    for j in range(0,len(x_hist[i]['regional'])): #this repeats for dates i.e as of march 23 2021 , 378 times]\n",
    "        file_name = x_hist[i]['regional'][j]['loc']\n",
    "        sub_file = re.sub(r'[^\\w]', '', file_name)\n",
    "        ff = open(sub_file+\".csv\", \"a\")\n",
    "        ff.write(x_hist[i]['day']+\",\"+str(x_hist[i]['regional'][j]['confirmedCasesIndian'])+\",\"+str(x_hist[i]['regional'][j]['confirmedCasesForeign'])+\",\"+str(x_hist[i]['regional'][j]['discharged'])+\",\"+str(x_hist[i]['regional'][j]['deaths'])+\",\"+str(x_hist[i]['regional'][j]['totalConfirmed'])+\"\\n\")\n",
    "        ff.close()"
   ]
  },
  {
   "cell_type": "code",
   "execution_count": 42,
   "metadata": {},
   "outputs": [
    {
     "output_type": "execute_result",
     "data": {
      "text/plain": [
       "138"
      ]
     },
     "metadata": {},
     "execution_count": 42
    }
   ],
   "source": [
    "i"
   ]
  },
  {
   "cell_type": "code",
   "execution_count": 43,
   "metadata": {},
   "outputs": [
    {
     "output_type": "execute_result",
     "data": {
      "text/plain": [
       "30"
      ]
     },
     "metadata": {},
     "execution_count": 43
    }
   ],
   "source": [
    "j"
   ]
  },
  {
   "cell_type": "code",
   "execution_count": 51,
   "metadata": {},
   "outputs": [
    {
     "output_type": "stream",
     "name": "stdout",
     "text": [
      "Telangana***\n"
     ]
    }
   ],
   "source": [
    "file_name = x_hist[i]['regional'][j]['loc']\n",
    "sub_file = re.sub(r'[^\\w]', '', file_name)\n",
    "sub_file\n",
    "print(file_name)"
   ]
  },
  {
   "cell_type": "code",
   "execution_count": 45,
   "metadata": {},
   "outputs": [
    {
     "output_type": "execute_result",
     "data": {
      "text/plain": [
       "{'day': '2020-07-26',\n",
       " 'summary': {'total': 1385522,\n",
       "  'confirmedCasesIndian': 1385484,\n",
       "  'confirmedCasesForeign': 38,\n",
       "  'discharged': 885577,\n",
       "  'deaths': 32063,\n",
       "  'confirmedButLocationUnidentified': 0},\n",
       " 'regional': [{'confirmedCasesIndian': 290,\n",
       "   'confirmedCasesForeign': 0,\n",
       "   'discharged': 176,\n",
       "   'deaths': 0,\n",
       "   'loc': 'Andaman and Nicobar Islands',\n",
       "   'totalConfirmed': 290},\n",
       "  {'confirmedCasesIndian': 88671,\n",
       "   'confirmedCasesForeign': 0,\n",
       "   'discharged': 43255,\n",
       "   'deaths': 985,\n",
       "   'loc': 'Andhra Pradesh',\n",
       "   'totalConfirmed': 88671},\n",
       "  {'confirmedCasesIndian': 1126,\n",
       "   'confirmedCasesForeign': 0,\n",
       "   'discharged': 428,\n",
       "   'deaths': 3,\n",
       "   'loc': 'Arunachal Pradesh',\n",
       "   'totalConfirmed': 1126},\n",
       "  {'confirmedCasesIndian': 31086,\n",
       "   'confirmedCasesForeign': 0,\n",
       "   'discharged': 23055,\n",
       "   'deaths': 77,\n",
       "   'loc': 'Assam',\n",
       "   'totalConfirmed': 31086},\n",
       "  {'confirmedCasesIndian': 36604,\n",
       "   'confirmedCasesForeign': 0,\n",
       "   'discharged': 24053,\n",
       "   'deaths': 234,\n",
       "   'loc': 'Bihar',\n",
       "   'totalConfirmed': 36604},\n",
       "  {'confirmedCasesIndian': 852,\n",
       "   'confirmedCasesForeign': 0,\n",
       "   'discharged': 555,\n",
       "   'deaths': 13,\n",
       "   'loc': 'Chandigarh',\n",
       "   'totalConfirmed': 852},\n",
       "  {'confirmedCasesIndian': 7087,\n",
       "   'confirmedCasesForeign': 0,\n",
       "   'discharged': 4683,\n",
       "   'deaths': 39,\n",
       "   'loc': 'Chhattisgarh',\n",
       "   'totalConfirmed': 7087},\n",
       "  {'confirmedCasesIndian': 860,\n",
       "   'confirmedCasesForeign': 0,\n",
       "   'discharged': 530,\n",
       "   'deaths': 2,\n",
       "   'loc': 'Dadra and Nagar Haveli and Daman and Diu',\n",
       "   'totalConfirmed': 860},\n",
       "  {'confirmedCasesIndian': 129530,\n",
       "   'confirmedCasesForeign': 1,\n",
       "   'discharged': 113068,\n",
       "   'deaths': 3806,\n",
       "   'loc': 'Delhi',\n",
       "   'totalConfirmed': 129531},\n",
       "  {'confirmedCasesIndian': 4685,\n",
       "   'confirmedCasesForeign': 1,\n",
       "   'discharged': 3047,\n",
       "   'deaths': 33,\n",
       "   'loc': 'Goa',\n",
       "   'totalConfirmed': 4686},\n",
       "  {'confirmedCasesIndian': 54625,\n",
       "   'confirmedCasesForeign': 1,\n",
       "   'discharged': 39631,\n",
       "   'deaths': 2300,\n",
       "   'loc': 'Gujarat',\n",
       "   'totalConfirmed': 54626},\n",
       "  {'confirmedCasesIndian': 30524,\n",
       "   'confirmedCasesForeign': 14,\n",
       "   'discharged': 23654,\n",
       "   'deaths': 389,\n",
       "   'loc': 'Haryana',\n",
       "   'totalConfirmed': 30538},\n",
       "  {'confirmedCasesIndian': 2049,\n",
       "   'confirmedCasesForeign': 0,\n",
       "   'discharged': 1173,\n",
       "   'deaths': 11,\n",
       "   'loc': 'Himachal Pradesh',\n",
       "   'totalConfirmed': 2049},\n",
       "  {'confirmedCasesIndian': 17305,\n",
       "   'confirmedCasesForeign': 0,\n",
       "   'discharged': 9517,\n",
       "   'deaths': 305,\n",
       "   'loc': 'Jammu and Kashmir',\n",
       "   'totalConfirmed': 17305},\n",
       "  {'confirmedCasesIndian': 7836,\n",
       "   'confirmedCasesForeign': 0,\n",
       "   'discharged': 3425,\n",
       "   'deaths': 82,\n",
       "   'loc': 'Jharkhand',\n",
       "   'totalConfirmed': 7836},\n",
       "  {'confirmedCasesIndian': 90942,\n",
       "   'confirmedCasesForeign': 0,\n",
       "   'discharged': 33750,\n",
       "   'deaths': 1796,\n",
       "   'loc': 'Karnataka',\n",
       "   'totalConfirmed': 90942},\n",
       "  {'confirmedCasesIndian': 18090,\n",
       "   'confirmedCasesForeign': 8,\n",
       "   'discharged': 8611,\n",
       "   'deaths': 59,\n",
       "   'loc': 'Kerala',\n",
       "   'totalConfirmed': 18098},\n",
       "  {'confirmedCasesIndian': 1276,\n",
       "   'confirmedCasesForeign': 0,\n",
       "   'discharged': 1057,\n",
       "   'deaths': 3,\n",
       "   'loc': 'Ladakh',\n",
       "   'totalConfirmed': 1276},\n",
       "  {'confirmedCasesIndian': 26926,\n",
       "   'confirmedCasesForeign': 0,\n",
       "   'discharged': 18488,\n",
       "   'deaths': 799,\n",
       "   'loc': 'Madhya Pradesh',\n",
       "   'totalConfirmed': 26926},\n",
       "  {'confirmedCasesIndian': 366365,\n",
       "   'confirmedCasesForeign': 3,\n",
       "   'discharged': 207194,\n",
       "   'deaths': 13389,\n",
       "   'loc': 'Maharashtra',\n",
       "   'totalConfirmed': 366368},\n",
       "  {'confirmedCasesIndian': 2176,\n",
       "   'confirmedCasesForeign': 0,\n",
       "   'discharged': 1524,\n",
       "   'deaths': 0,\n",
       "   'loc': 'Manipur',\n",
       "   'totalConfirmed': 2176},\n",
       "  {'confirmedCasesIndian': 646,\n",
       "   'confirmedCasesForeign': 0,\n",
       "   'discharged': 94,\n",
       "   'deaths': 5,\n",
       "   'loc': 'Meghalaya',\n",
       "   'totalConfirmed': 646},\n",
       "  {'confirmedCasesIndian': 361,\n",
       "   'confirmedCasesForeign': 0,\n",
       "   'discharged': 183,\n",
       "   'deaths': 0,\n",
       "   'loc': 'Mizoram',\n",
       "   'totalConfirmed': 361},\n",
       "  {'confirmedCasesIndian': 1289,\n",
       "   'confirmedCasesForeign': 0,\n",
       "   'discharged': 541,\n",
       "   'deaths': 4,\n",
       "   'loc': 'Nagaland',\n",
       "   'totalConfirmed': 1289},\n",
       "  {'confirmedCasesIndian': 24013,\n",
       "   'confirmedCasesForeign': 0,\n",
       "   'discharged': 15929,\n",
       "   'deaths': 130,\n",
       "   'loc': 'Odisha',\n",
       "   'totalConfirmed': 24013},\n",
       "  {'confirmedCasesIndian': 2654,\n",
       "   'confirmedCasesForeign': 0,\n",
       "   'discharged': 1561,\n",
       "   'deaths': 38,\n",
       "   'loc': 'Puducherry',\n",
       "   'totalConfirmed': 2654},\n",
       "  {'confirmedCasesIndian': 12684,\n",
       "   'confirmedCasesForeign': 0,\n",
       "   'discharged': 8297,\n",
       "   'deaths': 291,\n",
       "   'loc': 'Punjab',\n",
       "   'totalConfirmed': 12684},\n",
       "  {'confirmedCasesIndian': 35296,\n",
       "   'confirmedCasesForeign': 2,\n",
       "   'discharged': 25306,\n",
       "   'deaths': 613,\n",
       "   'loc': 'Rajasthan',\n",
       "   'totalConfirmed': 35298},\n",
       "  {'confirmedCasesIndian': 499,\n",
       "   'confirmedCasesForeign': 0,\n",
       "   'discharged': 142,\n",
       "   'deaths': 0,\n",
       "   'loc': 'Sikkim',\n",
       "   'totalConfirmed': 499},\n",
       "  {'confirmedCasesIndian': 206731,\n",
       "   'confirmedCasesForeign': 6,\n",
       "   'discharged': 151055,\n",
       "   'deaths': 3409,\n",
       "   'loc': 'Tamil Nadu',\n",
       "   'totalConfirmed': 206737},\n",
       "  {'confirmedCasesIndian': 52466,\n",
       "   'confirmedCasesForeign': 0,\n",
       "   'discharged': 40334,\n",
       "   'deaths': 455,\n",
       "   'loc': 'Telangana***',\n",
       "   'totalConfirmed': 52466},\n",
       "  {'confirmedCasesIndian': 3862,\n",
       "   'confirmedCasesForeign': 0,\n",
       "   'discharged': 2209,\n",
       "   'deaths': 11,\n",
       "   'loc': 'Tripura',\n",
       "   'totalConfirmed': 3862},\n",
       "  {'confirmedCasesIndian': 5960,\n",
       "   'confirmedCasesForeign': 1,\n",
       "   'discharged': 3495,\n",
       "   'deaths': 63,\n",
       "   'loc': 'Uttarakhand',\n",
       "   'totalConfirmed': 5961},\n",
       "  {'confirmedCasesIndian': 63741,\n",
       "   'confirmedCasesForeign': 1,\n",
       "   'discharged': 39903,\n",
       "   'deaths': 1387,\n",
       "   'loc': 'Uttar Pradesh',\n",
       "   'totalConfirmed': 63742},\n",
       "  {'confirmedCasesIndian': 56377,\n",
       "   'confirmedCasesForeign': 0,\n",
       "   'discharged': 35654,\n",
       "   'deaths': 1332,\n",
       "   'loc': 'West Bengal',\n",
       "   'totalConfirmed': 56377}]}"
      ]
     },
     "metadata": {},
     "execution_count": 45
    }
   ],
   "source": [
    "x_hist[i]"
   ]
  },
  {
   "cell_type": "code",
   "execution_count": 39,
   "metadata": {},
   "outputs": [],
   "source": [
    "    for j in range(0,len(x_hist[-1]['regional'])): #this repeats for dates i.e as of march 23 2021 , 378 times]\n",
    "        ff = open(x_hist[-1]['regional'][j]['loc']+\".csv\", \"a\")\n",
    "        ff.write('date,confirmedcasesindian,confirmedcasesforeign,discharged,deaths,totalConfirmed\\n')\n",
    "        ff.close()"
   ]
  },
  {
   "cell_type": "code",
   "execution_count": 38,
   "metadata": {},
   "outputs": [
    {
     "output_type": "execute_result",
     "data": {
      "text/plain": [
       "13"
      ]
     },
     "metadata": {},
     "execution_count": 38
    }
   ],
   "source": [
    "len(x_hist[4]['regional'])"
   ]
  },
  {
   "cell_type": "code",
   "execution_count": 25,
   "metadata": {},
   "outputs": [
    {
     "output_type": "error",
     "ename": "AttributeError",
     "evalue": "'str' object has no attribute 'csv'",
     "traceback": [
      "\u001b[0;31m---------------------------------------------------------------------------\u001b[0m",
      "\u001b[0;31mAttributeError\u001b[0m                            Traceback (most recent call last)",
      "\u001b[0;32m<ipython-input-25-1d2db64bfaeb>\u001b[0m in \u001b[0;36m<module>\u001b[0;34m\u001b[0m\n\u001b[0;32m----> 1\u001b[0;31m \u001b[0mf\u001b[0m \u001b[0;34m=\u001b[0m \u001b[0mopen\u001b[0m\u001b[0;34m(\u001b[0m\u001b[0;34m\"hist_summary\"\u001b[0m\u001b[0;34m.\u001b[0m\u001b[0mcsv\u001b[0m\u001b[0;34m,\u001b[0m \u001b[0;34m\"a\"\u001b[0m\u001b[0;34m)\u001b[0m\u001b[0;34m\u001b[0m\u001b[0;34m\u001b[0m\u001b[0m\n\u001b[0m\u001b[1;32m      2\u001b[0m \u001b[0mf\u001b[0m\u001b[0;34m.\u001b[0m\u001b[0mwrite\u001b[0m\u001b[0;34m(\u001b[0m\u001b[0;34m'date,total,confirmedcasesindian,confirmedcasesforeign,dischared,deaths,confirmedButLocationUnidentified'\u001b[0m\u001b[0;34m)\u001b[0m\u001b[0;34m\u001b[0m\u001b[0;34m\u001b[0m\u001b[0m\n\u001b[1;32m      3\u001b[0m \u001b[0mf\u001b[0m\u001b[0;34m.\u001b[0m\u001b[0mclose\u001b[0m\u001b[0;34m(\u001b[0m\u001b[0;34m)\u001b[0m\u001b[0;34m\u001b[0m\u001b[0;34m\u001b[0m\u001b[0m\n",
      "\u001b[0;31mAttributeError\u001b[0m: 'str' object has no attribute 'csv'"
     ]
    }
   ],
   "source": [
    "f = open(\"hist_summary.csv\", \"a\")\n",
    "f.write('date,total,confirmedcasesindian,confirmedcasesforeign,dischared,deaths,confirmedButLocationUnidentified')\n",
    "f.close()"
   ]
  },
  {
   "cell_type": "code",
   "execution_count": 26,
   "metadata": {},
   "outputs": [
    {
     "output_type": "execute_result",
     "data": {
      "text/plain": [
       "{'total': 11686796,\n",
       " 'confirmedCasesIndian': 11686748,\n",
       " 'confirmedCasesForeign': 48,\n",
       " 'discharged': 11181253,\n",
       " 'deaths': 160166,\n",
       " 'confirmedButLocationUnidentified': 0}"
      ]
     },
     "metadata": {},
     "execution_count": 26
    }
   ],
   "source": [
    "(x_hist[-1]['summary'])"
   ]
  },
  {
   "cell_type": "code",
   "execution_count": 47,
   "metadata": {},
   "outputs": [],
   "source": [
    "f = open(\"hist_summary.csv\", \"a\")\n",
    "f.write('date,total,confirmedcasesindian,confirmedcasesforeign,dischared,deaths,confirmedButLocationUnidentified')\n",
    "f.close()"
   ]
  },
  {
   "cell_type": "code",
   "execution_count": 49,
   "metadata": {},
   "outputs": [],
   "source": [
    "for i in range(0,len(x_hist)):\n",
    "    f = open(\"hist_summary.csv\", \"a\")\n",
    "    f.write(x_hist[i]['day']+\",\"+str(x_hist[i]['summary']['total'])+\",\"+str(x_hist[i]['summary']['confirmedCasesIndian'])+\",\"+str(x_hist[i]['summary']['confirmedCasesForeign'])+\",\"+str(x_hist[i]['summary']['discharged'])+\",\"+str(x_hist[i]['summary']['deaths'])+\",\"+str(x_hist[i]['summary']['confirmedButLocationUnidentified'])+\"\\n\")\n",
    "    f.close()\n"
   ]
  },
  {
   "cell_type": "code",
   "execution_count": 27,
   "metadata": {},
   "outputs": [],
   "source": [
    "history = pd.read_json(json.dumps(x_hist[-3]['regional']))"
   ]
  },
  {
   "cell_type": "code",
   "execution_count": 28,
   "metadata": {},
   "outputs": [
    {
     "output_type": "execute_result",
     "data": {
      "text/plain": [
       "                                         loc  confirmedCasesIndian  \\\n",
       "0                Andaman and Nicobar Islands                  5038   \n",
       "1                             Andhra Pradesh                893366   \n",
       "2                          Arunachal Pradesh                 16842   \n",
       "3                                      Assam                217951   \n",
       "4                                      Bihar                263443   \n",
       "5                                 Chandigarh                 24220   \n",
       "6                               Chhattisgarh                323153   \n",
       "7   Dadra and Nagar Haveli and Daman and Diu                  3471   \n",
       "8                                      Delhi                647160   \n",
       "9                                        Goa                 56524   \n",
       "10                                   Gujarat                285428   \n",
       "11                                   Haryana                278947   \n",
       "12                          Himachal Pradesh                 60537   \n",
       "13                         Jammu and Kashmir                128389   \n",
       "14                                 Jharkhand                121178   \n",
       "15                                 Karnataka                968487   \n",
       "16                                    Kerala               1102345   \n",
       "17                                    Ladakh                  9906   \n",
       "18                               Lakshadweep                   648   \n",
       "19                            Madhya Pradesh                274405   \n",
       "20                               Maharashtra               2449144   \n",
       "21                                   Manipur                 29332   \n",
       "22                                 Meghalaya                 14012   \n",
       "23                                   Mizoram                  4447   \n",
       "24                                  Nagaland                 12225   \n",
       "25                                    Odisha                338719   \n",
       "26                                Puducherry                 40322   \n",
       "27                                    Punjab                210466   \n",
       "28                                 Rajasthan                324946   \n",
       "29                                    Sikkim                  6204   \n",
       "30                                Tamil Nadu                865687   \n",
       "31                                 Telengana                303108   \n",
       "32                                   Tripura                 33464   \n",
       "33                               Uttarakhand                 98310   \n",
       "34                             Uttar Pradesh                607049   \n",
       "35                               West Bengal                580209   \n",
       "\n",
       "    confirmedCasesForeign  discharged  deaths  totalConfirmed  \n",
       "0                       0        4969      62            5038  \n",
       "1                       0      884094    7189          893366  \n",
       "2                       0       16783      56           16842  \n",
       "3                       0      215201    1100          217951  \n",
       "4                       0      261413    1557          263443  \n",
       "5                       0       22142     361           24220  \n",
       "6                       0      311520    3940          323153  \n",
       "7                       0        3425       2            3471  \n",
       "8                       1      632797   10955          647161  \n",
       "9                       1       54713     815           56525  \n",
       "10                      1      274249    4443          285429  \n",
       "11                     14      271038    3093          278961  \n",
       "12                      0       58321    1017           60537  \n",
       "13                      0      125218    1980          128389  \n",
       "14                      0      119361    1095          121178  \n",
       "15                      0      943208   12432          968487  \n",
       "16                      8     1072554    4482         1102353  \n",
       "17                      0        9703     130            9906  \n",
       "18                      0         511       1             648  \n",
       "19                      0      263158    3903          274405  \n",
       "20                      3     2203553   53300         2449147  \n",
       "21                      0       28931     373           29332  \n",
       "22                      0       13835     149           14012  \n",
       "23                      0        4421      11            4447  \n",
       "24                      0       12132      91           12225  \n",
       "25                      0      336066    1918          338719  \n",
       "26                      0       39521     674           40322  \n",
       "27                      0      187198    6280          210466  \n",
       "28                      2      318842    2796          324948  \n",
       "29                      0        6016     135            6204  \n",
       "30                      6      845812   12590          865693  \n",
       "31                     10      298645    1669          303118  \n",
       "32                      0       33043     391           33464  \n",
       "33                      1       95851    1704           98311  \n",
       "34                      1      595518    8758          607050  \n",
       "35                      0      566526   10303          580209  "
      ],
      "text/html": "<div>\n<style scoped>\n    .dataframe tbody tr th:only-of-type {\n        vertical-align: middle;\n    }\n\n    .dataframe tbody tr th {\n        vertical-align: top;\n    }\n\n    .dataframe thead th {\n        text-align: right;\n    }\n</style>\n<table border=\"1\" class=\"dataframe\">\n  <thead>\n    <tr style=\"text-align: right;\">\n      <th></th>\n      <th>loc</th>\n      <th>confirmedCasesIndian</th>\n      <th>confirmedCasesForeign</th>\n      <th>discharged</th>\n      <th>deaths</th>\n      <th>totalConfirmed</th>\n    </tr>\n  </thead>\n  <tbody>\n    <tr>\n      <th>0</th>\n      <td>Andaman and Nicobar Islands</td>\n      <td>5038</td>\n      <td>0</td>\n      <td>4969</td>\n      <td>62</td>\n      <td>5038</td>\n    </tr>\n    <tr>\n      <th>1</th>\n      <td>Andhra Pradesh</td>\n      <td>893366</td>\n      <td>0</td>\n      <td>884094</td>\n      <td>7189</td>\n      <td>893366</td>\n    </tr>\n    <tr>\n      <th>2</th>\n      <td>Arunachal Pradesh</td>\n      <td>16842</td>\n      <td>0</td>\n      <td>16783</td>\n      <td>56</td>\n      <td>16842</td>\n    </tr>\n    <tr>\n      <th>3</th>\n      <td>Assam</td>\n      <td>217951</td>\n      <td>0</td>\n      <td>215201</td>\n      <td>1100</td>\n      <td>217951</td>\n    </tr>\n    <tr>\n      <th>4</th>\n      <td>Bihar</td>\n      <td>263443</td>\n      <td>0</td>\n      <td>261413</td>\n      <td>1557</td>\n      <td>263443</td>\n    </tr>\n    <tr>\n      <th>5</th>\n      <td>Chandigarh</td>\n      <td>24220</td>\n      <td>0</td>\n      <td>22142</td>\n      <td>361</td>\n      <td>24220</td>\n    </tr>\n    <tr>\n      <th>6</th>\n      <td>Chhattisgarh</td>\n      <td>323153</td>\n      <td>0</td>\n      <td>311520</td>\n      <td>3940</td>\n      <td>323153</td>\n    </tr>\n    <tr>\n      <th>7</th>\n      <td>Dadra and Nagar Haveli and Daman and Diu</td>\n      <td>3471</td>\n      <td>0</td>\n      <td>3425</td>\n      <td>2</td>\n      <td>3471</td>\n    </tr>\n    <tr>\n      <th>8</th>\n      <td>Delhi</td>\n      <td>647160</td>\n      <td>1</td>\n      <td>632797</td>\n      <td>10955</td>\n      <td>647161</td>\n    </tr>\n    <tr>\n      <th>9</th>\n      <td>Goa</td>\n      <td>56524</td>\n      <td>1</td>\n      <td>54713</td>\n      <td>815</td>\n      <td>56525</td>\n    </tr>\n    <tr>\n      <th>10</th>\n      <td>Gujarat</td>\n      <td>285428</td>\n      <td>1</td>\n      <td>274249</td>\n      <td>4443</td>\n      <td>285429</td>\n    </tr>\n    <tr>\n      <th>11</th>\n      <td>Haryana</td>\n      <td>278947</td>\n      <td>14</td>\n      <td>271038</td>\n      <td>3093</td>\n      <td>278961</td>\n    </tr>\n    <tr>\n      <th>12</th>\n      <td>Himachal Pradesh</td>\n      <td>60537</td>\n      <td>0</td>\n      <td>58321</td>\n      <td>1017</td>\n      <td>60537</td>\n    </tr>\n    <tr>\n      <th>13</th>\n      <td>Jammu and Kashmir</td>\n      <td>128389</td>\n      <td>0</td>\n      <td>125218</td>\n      <td>1980</td>\n      <td>128389</td>\n    </tr>\n    <tr>\n      <th>14</th>\n      <td>Jharkhand</td>\n      <td>121178</td>\n      <td>0</td>\n      <td>119361</td>\n      <td>1095</td>\n      <td>121178</td>\n    </tr>\n    <tr>\n      <th>15</th>\n      <td>Karnataka</td>\n      <td>968487</td>\n      <td>0</td>\n      <td>943208</td>\n      <td>12432</td>\n      <td>968487</td>\n    </tr>\n    <tr>\n      <th>16</th>\n      <td>Kerala</td>\n      <td>1102345</td>\n      <td>8</td>\n      <td>1072554</td>\n      <td>4482</td>\n      <td>1102353</td>\n    </tr>\n    <tr>\n      <th>17</th>\n      <td>Ladakh</td>\n      <td>9906</td>\n      <td>0</td>\n      <td>9703</td>\n      <td>130</td>\n      <td>9906</td>\n    </tr>\n    <tr>\n      <th>18</th>\n      <td>Lakshadweep</td>\n      <td>648</td>\n      <td>0</td>\n      <td>511</td>\n      <td>1</td>\n      <td>648</td>\n    </tr>\n    <tr>\n      <th>19</th>\n      <td>Madhya Pradesh</td>\n      <td>274405</td>\n      <td>0</td>\n      <td>263158</td>\n      <td>3903</td>\n      <td>274405</td>\n    </tr>\n    <tr>\n      <th>20</th>\n      <td>Maharashtra</td>\n      <td>2449144</td>\n      <td>3</td>\n      <td>2203553</td>\n      <td>53300</td>\n      <td>2449147</td>\n    </tr>\n    <tr>\n      <th>21</th>\n      <td>Manipur</td>\n      <td>29332</td>\n      <td>0</td>\n      <td>28931</td>\n      <td>373</td>\n      <td>29332</td>\n    </tr>\n    <tr>\n      <th>22</th>\n      <td>Meghalaya</td>\n      <td>14012</td>\n      <td>0</td>\n      <td>13835</td>\n      <td>149</td>\n      <td>14012</td>\n    </tr>\n    <tr>\n      <th>23</th>\n      <td>Mizoram</td>\n      <td>4447</td>\n      <td>0</td>\n      <td>4421</td>\n      <td>11</td>\n      <td>4447</td>\n    </tr>\n    <tr>\n      <th>24</th>\n      <td>Nagaland</td>\n      <td>12225</td>\n      <td>0</td>\n      <td>12132</td>\n      <td>91</td>\n      <td>12225</td>\n    </tr>\n    <tr>\n      <th>25</th>\n      <td>Odisha</td>\n      <td>338719</td>\n      <td>0</td>\n      <td>336066</td>\n      <td>1918</td>\n      <td>338719</td>\n    </tr>\n    <tr>\n      <th>26</th>\n      <td>Puducherry</td>\n      <td>40322</td>\n      <td>0</td>\n      <td>39521</td>\n      <td>674</td>\n      <td>40322</td>\n    </tr>\n    <tr>\n      <th>27</th>\n      <td>Punjab</td>\n      <td>210466</td>\n      <td>0</td>\n      <td>187198</td>\n      <td>6280</td>\n      <td>210466</td>\n    </tr>\n    <tr>\n      <th>28</th>\n      <td>Rajasthan</td>\n      <td>324946</td>\n      <td>2</td>\n      <td>318842</td>\n      <td>2796</td>\n      <td>324948</td>\n    </tr>\n    <tr>\n      <th>29</th>\n      <td>Sikkim</td>\n      <td>6204</td>\n      <td>0</td>\n      <td>6016</td>\n      <td>135</td>\n      <td>6204</td>\n    </tr>\n    <tr>\n      <th>30</th>\n      <td>Tamil Nadu</td>\n      <td>865687</td>\n      <td>6</td>\n      <td>845812</td>\n      <td>12590</td>\n      <td>865693</td>\n    </tr>\n    <tr>\n      <th>31</th>\n      <td>Telengana</td>\n      <td>303108</td>\n      <td>10</td>\n      <td>298645</td>\n      <td>1669</td>\n      <td>303118</td>\n    </tr>\n    <tr>\n      <th>32</th>\n      <td>Tripura</td>\n      <td>33464</td>\n      <td>0</td>\n      <td>33043</td>\n      <td>391</td>\n      <td>33464</td>\n    </tr>\n    <tr>\n      <th>33</th>\n      <td>Uttarakhand</td>\n      <td>98310</td>\n      <td>1</td>\n      <td>95851</td>\n      <td>1704</td>\n      <td>98311</td>\n    </tr>\n    <tr>\n      <th>34</th>\n      <td>Uttar Pradesh</td>\n      <td>607049</td>\n      <td>1</td>\n      <td>595518</td>\n      <td>8758</td>\n      <td>607050</td>\n    </tr>\n    <tr>\n      <th>35</th>\n      <td>West Bengal</td>\n      <td>580209</td>\n      <td>0</td>\n      <td>566526</td>\n      <td>10303</td>\n      <td>580209</td>\n    </tr>\n  </tbody>\n</table>\n</div>"
     },
     "metadata": {},
     "execution_count": 28
    }
   ],
   "source": [
    "history"
   ]
  },
  {
   "cell_type": "code",
   "execution_count": 29,
   "metadata": {},
   "outputs": [
    {
     "output_type": "error",
     "ename": "KeyError",
     "evalue": "'summary'",
     "traceback": [
      "\u001b[0;31m---------------------------------------------------------------------------\u001b[0m",
      "\u001b[0;31mKeyError\u001b[0m                                  Traceback (most recent call last)",
      "\u001b[0;32m~/.local/lib/python3.9/site-packages/pandas/core/indexes/base.py\u001b[0m in \u001b[0;36mget_loc\u001b[0;34m(self, key, method, tolerance)\u001b[0m\n\u001b[1;32m   3079\u001b[0m             \u001b[0;32mtry\u001b[0m\u001b[0;34m:\u001b[0m\u001b[0;34m\u001b[0m\u001b[0;34m\u001b[0m\u001b[0m\n\u001b[0;32m-> 3080\u001b[0;31m                 \u001b[0;32mreturn\u001b[0m \u001b[0mself\u001b[0m\u001b[0;34m.\u001b[0m\u001b[0m_engine\u001b[0m\u001b[0;34m.\u001b[0m\u001b[0mget_loc\u001b[0m\u001b[0;34m(\u001b[0m\u001b[0mcasted_key\u001b[0m\u001b[0;34m)\u001b[0m\u001b[0;34m\u001b[0m\u001b[0;34m\u001b[0m\u001b[0m\n\u001b[0m\u001b[1;32m   3081\u001b[0m             \u001b[0;32mexcept\u001b[0m \u001b[0mKeyError\u001b[0m \u001b[0;32mas\u001b[0m \u001b[0merr\u001b[0m\u001b[0;34m:\u001b[0m\u001b[0;34m\u001b[0m\u001b[0;34m\u001b[0m\u001b[0m\n",
      "\u001b[0;32mpandas/_libs/index.pyx\u001b[0m in \u001b[0;36mpandas._libs.index.IndexEngine.get_loc\u001b[0;34m()\u001b[0m\n",
      "\u001b[0;32mpandas/_libs/index.pyx\u001b[0m in \u001b[0;36mpandas._libs.index.IndexEngine.get_loc\u001b[0;34m()\u001b[0m\n",
      "\u001b[0;32mpandas/_libs/hashtable_class_helper.pxi\u001b[0m in \u001b[0;36mpandas._libs.hashtable.PyObjectHashTable.get_item\u001b[0;34m()\u001b[0m\n",
      "\u001b[0;32mpandas/_libs/hashtable_class_helper.pxi\u001b[0m in \u001b[0;36mpandas._libs.hashtable.PyObjectHashTable.get_item\u001b[0;34m()\u001b[0m\n",
      "\u001b[0;31mKeyError\u001b[0m: 'summary'",
      "\nThe above exception was the direct cause of the following exception:\n",
      "\u001b[0;31mKeyError\u001b[0m                                  Traceback (most recent call last)",
      "\u001b[0;32m<ipython-input-29-2a8f27672a80>\u001b[0m in \u001b[0;36m<module>\u001b[0;34m\u001b[0m\n\u001b[0;32m----> 1\u001b[0;31m \u001b[0mx_hist_summary\u001b[0m \u001b[0;34m=\u001b[0m \u001b[0mhistory\u001b[0m\u001b[0;34m[\u001b[0m\u001b[0;34m'summary'\u001b[0m\u001b[0;34m]\u001b[0m\u001b[0;34m.\u001b[0m\u001b[0mto_numpy\u001b[0m\u001b[0;34m(\u001b[0m\u001b[0;34m)\u001b[0m\u001b[0;34m\u001b[0m\u001b[0;34m\u001b[0m\u001b[0m\n\u001b[0m",
      "\u001b[0;32m~/.local/lib/python3.9/site-packages/pandas/core/frame.py\u001b[0m in \u001b[0;36m__getitem__\u001b[0;34m(self, key)\u001b[0m\n\u001b[1;32m   3022\u001b[0m             \u001b[0;32mif\u001b[0m \u001b[0mself\u001b[0m\u001b[0;34m.\u001b[0m\u001b[0mcolumns\u001b[0m\u001b[0;34m.\u001b[0m\u001b[0mnlevels\u001b[0m \u001b[0;34m>\u001b[0m \u001b[0;36m1\u001b[0m\u001b[0;34m:\u001b[0m\u001b[0;34m\u001b[0m\u001b[0;34m\u001b[0m\u001b[0m\n\u001b[1;32m   3023\u001b[0m                 \u001b[0;32mreturn\u001b[0m \u001b[0mself\u001b[0m\u001b[0;34m.\u001b[0m\u001b[0m_getitem_multilevel\u001b[0m\u001b[0;34m(\u001b[0m\u001b[0mkey\u001b[0m\u001b[0;34m)\u001b[0m\u001b[0;34m\u001b[0m\u001b[0;34m\u001b[0m\u001b[0m\n\u001b[0;32m-> 3024\u001b[0;31m             \u001b[0mindexer\u001b[0m \u001b[0;34m=\u001b[0m \u001b[0mself\u001b[0m\u001b[0;34m.\u001b[0m\u001b[0mcolumns\u001b[0m\u001b[0;34m.\u001b[0m\u001b[0mget_loc\u001b[0m\u001b[0;34m(\u001b[0m\u001b[0mkey\u001b[0m\u001b[0;34m)\u001b[0m\u001b[0;34m\u001b[0m\u001b[0;34m\u001b[0m\u001b[0m\n\u001b[0m\u001b[1;32m   3025\u001b[0m             \u001b[0;32mif\u001b[0m \u001b[0mis_integer\u001b[0m\u001b[0;34m(\u001b[0m\u001b[0mindexer\u001b[0m\u001b[0;34m)\u001b[0m\u001b[0;34m:\u001b[0m\u001b[0;34m\u001b[0m\u001b[0;34m\u001b[0m\u001b[0m\n\u001b[1;32m   3026\u001b[0m                 \u001b[0mindexer\u001b[0m \u001b[0;34m=\u001b[0m \u001b[0;34m[\u001b[0m\u001b[0mindexer\u001b[0m\u001b[0;34m]\u001b[0m\u001b[0;34m\u001b[0m\u001b[0;34m\u001b[0m\u001b[0m\n",
      "\u001b[0;32m~/.local/lib/python3.9/site-packages/pandas/core/indexes/base.py\u001b[0m in \u001b[0;36mget_loc\u001b[0;34m(self, key, method, tolerance)\u001b[0m\n\u001b[1;32m   3080\u001b[0m                 \u001b[0;32mreturn\u001b[0m \u001b[0mself\u001b[0m\u001b[0;34m.\u001b[0m\u001b[0m_engine\u001b[0m\u001b[0;34m.\u001b[0m\u001b[0mget_loc\u001b[0m\u001b[0;34m(\u001b[0m\u001b[0mcasted_key\u001b[0m\u001b[0;34m)\u001b[0m\u001b[0;34m\u001b[0m\u001b[0;34m\u001b[0m\u001b[0m\n\u001b[1;32m   3081\u001b[0m             \u001b[0;32mexcept\u001b[0m \u001b[0mKeyError\u001b[0m \u001b[0;32mas\u001b[0m \u001b[0merr\u001b[0m\u001b[0;34m:\u001b[0m\u001b[0;34m\u001b[0m\u001b[0;34m\u001b[0m\u001b[0m\n\u001b[0;32m-> 3082\u001b[0;31m                 \u001b[0;32mraise\u001b[0m \u001b[0mKeyError\u001b[0m\u001b[0;34m(\u001b[0m\u001b[0mkey\u001b[0m\u001b[0;34m)\u001b[0m \u001b[0;32mfrom\u001b[0m \u001b[0merr\u001b[0m\u001b[0;34m\u001b[0m\u001b[0;34m\u001b[0m\u001b[0m\n\u001b[0m\u001b[1;32m   3083\u001b[0m \u001b[0;34m\u001b[0m\u001b[0m\n\u001b[1;32m   3084\u001b[0m         \u001b[0;32mif\u001b[0m \u001b[0mtolerance\u001b[0m \u001b[0;32mis\u001b[0m \u001b[0;32mnot\u001b[0m \u001b[0;32mNone\u001b[0m\u001b[0;34m:\u001b[0m\u001b[0;34m\u001b[0m\u001b[0;34m\u001b[0m\u001b[0m\n",
      "\u001b[0;31mKeyError\u001b[0m: 'summary'"
     ]
    }
   ],
   "source": [
    "x_hist_summary = history['summary'].to_numpy()"
   ]
  },
  {
   "cell_type": "code",
   "execution_count": 25,
   "metadata": {},
   "outputs": [
    {
     "output_type": "error",
     "ename": "NameError",
     "evalue": "name 'x_hist_summary' is not defined",
     "traceback": [
      "\u001b[0;31m---------------------------------------------------------------------------\u001b[0m",
      "\u001b[0;31mNameError\u001b[0m                                 Traceback (most recent call last)",
      "\u001b[0;32m<ipython-input-25-84d619791555>\u001b[0m in \u001b[0;36m<module>\u001b[0;34m\u001b[0m\n\u001b[0;32m----> 1\u001b[0;31m \u001b[0mx_hist_summary\u001b[0m\u001b[0;34m[\u001b[0m\u001b[0;36m0\u001b[0m\u001b[0;34m]\u001b[0m\u001b[0;34m\u001b[0m\u001b[0;34m\u001b[0m\u001b[0m\n\u001b[0m",
      "\u001b[0;31mNameError\u001b[0m: name 'x_hist_summary' is not defined"
     ]
    }
   ],
   "source": [
    "x_hist_summary[0]"
   ]
  },
  {
   "cell_type": "code",
   "execution_count": 26,
   "metadata": {},
   "outputs": [
    {
     "output_type": "error",
     "ename": "NameError",
     "evalue": "name 'x_hist_summary' is not defined",
     "traceback": [
      "\u001b[0;31m---------------------------------------------------------------------------\u001b[0m",
      "\u001b[0;31mNameError\u001b[0m                                 Traceback (most recent call last)",
      "\u001b[0;32m<ipython-input-26-e23f1768b3f7>\u001b[0m in \u001b[0;36m<module>\u001b[0;34m\u001b[0m\n\u001b[0;32m----> 1\u001b[0;31m \u001b[0mdf_hist_summary\u001b[0m \u001b[0;34m=\u001b[0m \u001b[0mpd\u001b[0m\u001b[0;34m.\u001b[0m\u001b[0mDataFrame\u001b[0m\u001b[0;34m(\u001b[0m\u001b[0mx_hist_summary\u001b[0m\u001b[0;34m)\u001b[0m\u001b[0;34m\u001b[0m\u001b[0;34m\u001b[0m\u001b[0m\n\u001b[0m",
      "\u001b[0;31mNameError\u001b[0m: name 'x_hist_summary' is not defined"
     ]
    }
   ],
   "source": [
    "df_hist_summary = pd.DataFrame(x_hist_summary)"
   ]
  },
  {
   "cell_type": "code",
   "execution_count": 27,
   "metadata": {},
   "outputs": [
    {
     "output_type": "error",
     "ename": "NameError",
     "evalue": "name 'df_hist_summary' is not defined",
     "traceback": [
      "\u001b[0;31m---------------------------------------------------------------------------\u001b[0m",
      "\u001b[0;31mNameError\u001b[0m                                 Traceback (most recent call last)",
      "\u001b[0;32m<ipython-input-27-debbdce6cfee>\u001b[0m in \u001b[0;36m<module>\u001b[0;34m\u001b[0m\n\u001b[0;32m----> 1\u001b[0;31m \u001b[0mdf_hist_summary\u001b[0m\u001b[0;34m\u001b[0m\u001b[0;34m\u001b[0m\u001b[0m\n\u001b[0m",
      "\u001b[0;31mNameError\u001b[0m: name 'df_hist_summary' is not defined"
     ]
    }
   ],
   "source": [
    "df_hist_summary"
   ]
  },
  {
   "cell_type": "code",
   "execution_count": null,
   "metadata": {},
   "outputs": [],
   "source": []
  }
 ]
}